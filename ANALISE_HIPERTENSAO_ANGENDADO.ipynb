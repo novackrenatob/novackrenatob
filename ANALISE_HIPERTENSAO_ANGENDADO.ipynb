{
  "nbformat": 4,
  "nbformat_minor": 0,
  "metadata": {
    "colab": {
      "name": "ANALISE_HIPERTENSAO_ANGENDADO.ipynb",
      "provenance": [],
      "collapsed_sections": []
    },
    "kernelspec": {
      "name": "python3",
      "display_name": "Python 3"
    },
    "widgets": {
      "application/vnd.jupyter.widget-state+json": {
        "cd287ace57714efc8d001ab79ddcc834": {
          "model_module": "@jupyter-widgets/controls",
          "model_name": "HBoxModel",
          "model_module_version": "1.5.0",
          "state": {
            "_view_name": "HBoxView",
            "_dom_classes": [],
            "_model_name": "HBoxModel",
            "_view_module": "@jupyter-widgets/controls",
            "_model_module_version": "1.5.0",
            "_view_count": null,
            "_view_module_version": "1.5.0",
            "box_style": "",
            "layout": "IPY_MODEL_eb367c1d9fc84053a7d238f632d696af",
            "_model_module": "@jupyter-widgets/controls",
            "children": [
              "IPY_MODEL_439ed458260a44629b374df67ce93cf6",
              "IPY_MODEL_02951346398b434ea1bf81ad7fca2fe5",
              "IPY_MODEL_a1bc5bc524d44c32be5e6a3ed469e08e"
            ]
          }
        },
        "eb367c1d9fc84053a7d238f632d696af": {
          "model_module": "@jupyter-widgets/base",
          "model_name": "LayoutModel",
          "model_module_version": "1.2.0",
          "state": {
            "_view_name": "LayoutView",
            "grid_template_rows": null,
            "right": null,
            "justify_content": null,
            "_view_module": "@jupyter-widgets/base",
            "overflow": null,
            "_model_module_version": "1.2.0",
            "_view_count": null,
            "flex_flow": "row wrap",
            "width": "100%",
            "min_width": null,
            "border": null,
            "align_items": null,
            "bottom": null,
            "_model_module": "@jupyter-widgets/base",
            "top": null,
            "grid_column": null,
            "overflow_y": null,
            "overflow_x": null,
            "grid_auto_flow": null,
            "grid_area": null,
            "grid_template_columns": null,
            "flex": null,
            "_model_name": "LayoutModel",
            "justify_items": null,
            "grid_row": null,
            "max_height": null,
            "align_content": null,
            "visibility": null,
            "align_self": null,
            "height": null,
            "min_height": null,
            "padding": null,
            "grid_auto_rows": null,
            "grid_gap": null,
            "max_width": null,
            "order": null,
            "_view_module_version": "1.2.0",
            "grid_template_areas": null,
            "object_position": null,
            "object_fit": null,
            "grid_auto_columns": null,
            "margin": null,
            "display": "inline-flex",
            "left": null
          }
        },
        "439ed458260a44629b374df67ce93cf6": {
          "model_module": "@jupyter-widgets/controls",
          "model_name": "HTMLModel",
          "model_module_version": "1.5.0",
          "state": {
            "_view_name": "HTMLView",
            "style": "IPY_MODEL_6fcaec882f4545f2bd9e576ae8dc7726",
            "_dom_classes": [],
            "description": "",
            "_model_name": "HTMLModel",
            "placeholder": "​",
            "_view_module": "@jupyter-widgets/controls",
            "_model_module_version": "1.5.0",
            "value": "Done! Use &#x27;show&#x27; commands to display/save.   ",
            "_view_count": null,
            "_view_module_version": "1.5.0",
            "description_tooltip": null,
            "_model_module": "@jupyter-widgets/controls",
            "layout": "IPY_MODEL_be695398e6b14e0ea366745eaef95ace"
          }
        },
        "02951346398b434ea1bf81ad7fca2fe5": {
          "model_module": "@jupyter-widgets/controls",
          "model_name": "FloatProgressModel",
          "model_module_version": "1.5.0",
          "state": {
            "_view_name": "ProgressView",
            "style": "IPY_MODEL_194b57513e2f40a5963bb106484cecbc",
            "_dom_classes": [],
            "description": "",
            "_model_name": "FloatProgressModel",
            "bar_style": "success",
            "max": 1,
            "_view_module": "@jupyter-widgets/controls",
            "_model_module_version": "1.5.0",
            "value": 1,
            "_view_count": null,
            "_view_module_version": "1.5.0",
            "orientation": "horizontal",
            "min": 0,
            "description_tooltip": null,
            "_model_module": "@jupyter-widgets/controls",
            "layout": "IPY_MODEL_810bf8463ec34c36b1ae4ff5dc3c9653"
          }
        },
        "a1bc5bc524d44c32be5e6a3ed469e08e": {
          "model_module": "@jupyter-widgets/controls",
          "model_name": "HTMLModel",
          "model_module_version": "1.5.0",
          "state": {
            "_view_name": "HTMLView",
            "style": "IPY_MODEL_895d661db9714e00a45a2d0d9d17c6a5",
            "_dom_classes": [],
            "description": "",
            "_model_name": "HTMLModel",
            "placeholder": "​",
            "_view_module": "@jupyter-widgets/controls",
            "_model_module_version": "1.5.0",
            "value": " [100%]   00:01 -&gt; (00:00 left)",
            "_view_count": null,
            "_view_module_version": "1.5.0",
            "description_tooltip": null,
            "_model_module": "@jupyter-widgets/controls",
            "layout": "IPY_MODEL_b75fc90bc7bb48fab83df4a0c6480a42"
          }
        },
        "6fcaec882f4545f2bd9e576ae8dc7726": {
          "model_module": "@jupyter-widgets/controls",
          "model_name": "DescriptionStyleModel",
          "model_module_version": "1.5.0",
          "state": {
            "_view_name": "StyleView",
            "_model_name": "DescriptionStyleModel",
            "description_width": "",
            "_view_module": "@jupyter-widgets/base",
            "_model_module_version": "1.5.0",
            "_view_count": null,
            "_view_module_version": "1.2.0",
            "_model_module": "@jupyter-widgets/controls"
          }
        },
        "be695398e6b14e0ea366745eaef95ace": {
          "model_module": "@jupyter-widgets/base",
          "model_name": "LayoutModel",
          "model_module_version": "1.2.0",
          "state": {
            "_view_name": "LayoutView",
            "grid_template_rows": null,
            "right": null,
            "justify_content": null,
            "_view_module": "@jupyter-widgets/base",
            "overflow": null,
            "_model_module_version": "1.2.0",
            "_view_count": null,
            "flex_flow": null,
            "width": null,
            "min_width": null,
            "border": null,
            "align_items": null,
            "bottom": null,
            "_model_module": "@jupyter-widgets/base",
            "top": null,
            "grid_column": null,
            "overflow_y": null,
            "overflow_x": null,
            "grid_auto_flow": null,
            "grid_area": null,
            "grid_template_columns": null,
            "flex": null,
            "_model_name": "LayoutModel",
            "justify_items": null,
            "grid_row": null,
            "max_height": null,
            "align_content": null,
            "visibility": null,
            "align_self": null,
            "height": null,
            "min_height": null,
            "padding": null,
            "grid_auto_rows": null,
            "grid_gap": null,
            "max_width": null,
            "order": null,
            "_view_module_version": "1.2.0",
            "grid_template_areas": null,
            "object_position": null,
            "object_fit": null,
            "grid_auto_columns": null,
            "margin": null,
            "display": null,
            "left": null
          }
        },
        "194b57513e2f40a5963bb106484cecbc": {
          "model_module": "@jupyter-widgets/controls",
          "model_name": "ProgressStyleModel",
          "model_module_version": "1.5.0",
          "state": {
            "_view_name": "StyleView",
            "_model_name": "ProgressStyleModel",
            "description_width": "",
            "_view_module": "@jupyter-widgets/base",
            "_model_module_version": "1.5.0",
            "_view_count": null,
            "_view_module_version": "1.2.0",
            "bar_color": null,
            "_model_module": "@jupyter-widgets/controls"
          }
        },
        "810bf8463ec34c36b1ae4ff5dc3c9653": {
          "model_module": "@jupyter-widgets/base",
          "model_name": "LayoutModel",
          "model_module_version": "1.2.0",
          "state": {
            "_view_name": "LayoutView",
            "grid_template_rows": null,
            "right": null,
            "justify_content": null,
            "_view_module": "@jupyter-widgets/base",
            "overflow": null,
            "_model_module_version": "1.2.0",
            "_view_count": null,
            "flex_flow": null,
            "width": null,
            "min_width": null,
            "border": null,
            "align_items": null,
            "bottom": null,
            "_model_module": "@jupyter-widgets/base",
            "top": null,
            "grid_column": null,
            "overflow_y": null,
            "overflow_x": null,
            "grid_auto_flow": null,
            "grid_area": null,
            "grid_template_columns": null,
            "flex": "2",
            "_model_name": "LayoutModel",
            "justify_items": null,
            "grid_row": null,
            "max_height": null,
            "align_content": null,
            "visibility": null,
            "align_self": null,
            "height": null,
            "min_height": null,
            "padding": null,
            "grid_auto_rows": null,
            "grid_gap": null,
            "max_width": null,
            "order": null,
            "_view_module_version": "1.2.0",
            "grid_template_areas": null,
            "object_position": null,
            "object_fit": null,
            "grid_auto_columns": null,
            "margin": null,
            "display": null,
            "left": null
          }
        },
        "895d661db9714e00a45a2d0d9d17c6a5": {
          "model_module": "@jupyter-widgets/controls",
          "model_name": "DescriptionStyleModel",
          "model_module_version": "1.5.0",
          "state": {
            "_view_name": "StyleView",
            "_model_name": "DescriptionStyleModel",
            "description_width": "",
            "_view_module": "@jupyter-widgets/base",
            "_model_module_version": "1.5.0",
            "_view_count": null,
            "_view_module_version": "1.2.0",
            "_model_module": "@jupyter-widgets/controls"
          }
        },
        "b75fc90bc7bb48fab83df4a0c6480a42": {
          "model_module": "@jupyter-widgets/base",
          "model_name": "LayoutModel",
          "model_module_version": "1.2.0",
          "state": {
            "_view_name": "LayoutView",
            "grid_template_rows": null,
            "right": null,
            "justify_content": null,
            "_view_module": "@jupyter-widgets/base",
            "overflow": null,
            "_model_module_version": "1.2.0",
            "_view_count": null,
            "flex_flow": null,
            "width": null,
            "min_width": null,
            "border": null,
            "align_items": null,
            "bottom": null,
            "_model_module": "@jupyter-widgets/base",
            "top": null,
            "grid_column": null,
            "overflow_y": null,
            "overflow_x": null,
            "grid_auto_flow": null,
            "grid_area": null,
            "grid_template_columns": null,
            "flex": null,
            "_model_name": "LayoutModel",
            "justify_items": null,
            "grid_row": null,
            "max_height": null,
            "align_content": null,
            "visibility": null,
            "align_self": null,
            "height": null,
            "min_height": null,
            "padding": null,
            "grid_auto_rows": null,
            "grid_gap": null,
            "max_width": null,
            "order": null,
            "_view_module_version": "1.2.0",
            "grid_template_areas": null,
            "object_position": null,
            "object_fit": null,
            "grid_auto_columns": null,
            "margin": null,
            "display": null,
            "left": null
          }
        }
      }
    }
  },
  "cells": [
    {
      "cell_type": "markdown",
      "metadata": {
        "id": "C51q7l2f-EwE"
      },
      "source": [
        "# **NOVACK RENATO BORGES**"
      ]
    },
    {
      "cell_type": "code",
      "metadata": {
        "colab": {
          "base_uri": "https://localhost:8080/"
        },
        "id": "fvFWCL1o_HOy",
        "outputId": "8632a02e-73f2-4c93-fe3f-ea01d669029e"
      },
      "source": [
        "from google.colab import drive\n",
        "drive.mount('/content/drive')"
      ],
      "execution_count": 1,
      "outputs": [
        {
          "output_type": "stream",
          "name": "stdout",
          "text": [
            "Mounted at /content/drive\n"
          ]
        }
      ]
    },
    {
      "cell_type": "markdown",
      "metadata": {
        "id": "MKeLhV9-YwT6"
      },
      "source": [
        "**Projeto de Ciência de Dados**"
      ]
    },
    {
      "cell_type": "markdown",
      "metadata": {
        "id": "04xQnVoDtdkb"
      },
      "source": [
        "Qual propabilidade de pessoas agendadas possuirem hipertensão?\n"
      ]
    },
    {
      "cell_type": "markdown",
      "metadata": {
        "id": "L4oIeTJymxON"
      },
      "source": [
        "### **Importar as bibliotecas**"
      ]
    },
    {
      "cell_type": "code",
      "metadata": {
        "id": "XiPEHDfLtTZI"
      },
      "source": [
        "\n",
        "import pandas as pd \n",
        "import numpy as np\n",
        "import matplotlib as mat\n",
        "import matplotlib.pyplot as plt\n",
        "import joblib\n",
        "from sklearn import metrics\n",
        "from sklearn.linear_model import LogisticRegression\n",
        "from sklearn.preprocessing import MinMaxScaler \n",
        "from sklearn.model_selection import train_test_split \n",
        "from sklearn.neighbors import KNeighborsClassifier \n",
        "from sklearn.tree import DecisionTreeClassifier \n",
        "from sklearn.neural_network import MLPClassifier\n",
        "# Método para avaliar a acurácia dos modelos\n",
        "from sklearn.metrics import classification_report, confusion_matrix, accuracy_score \n",
        "%matplotlib inline"
      ],
      "execution_count": 2,
      "outputs": []
    },
    {
      "cell_type": "markdown",
      "metadata": {
        "id": "W5ku6WuSnAg8"
      },
      "source": [
        "### **Processamento, Tratamento e Análise Exploratória dos Dados**"
      ]
    },
    {
      "cell_type": "code",
      "metadata": {
        "id": "lC5L5Xs8uYR1"
      },
      "source": [
        "\n",
        "df = pd.read_csv('/content/drive/MyDrive/Colab Notebooks/KaggleV2-May-2016.csv')"
      ],
      "execution_count": 4,
      "outputs": []
    },
    {
      "cell_type": "code",
      "metadata": {
        "id": "sAaG5O6ei6eR",
        "colab": {
          "base_uri": "https://localhost:8080/"
        },
        "outputId": "6a055a50-b05b-4cc3-ddcf-2de68f20817a"
      },
      "source": [
        "# conhecer o formato do nosso dataframe\n",
        "df.shape"
      ],
      "execution_count": 5,
      "outputs": [
        {
          "output_type": "execute_result",
          "data": {
            "text/plain": [
              "(110527, 14)"
            ]
          },
          "metadata": {},
          "execution_count": 5
        }
      ]
    },
    {
      "cell_type": "markdown",
      "metadata": {
        "id": "BDd1wWUIn5zs"
      },
      "source": [
        "**Dicionário de Dados:**\n",
        "\n",
        "\n",
        "\n",
        "*   Genero: Masculo (M) Feminino (F)\n",
        "*   Dia do agendamento: Dia da solicitação de atendimento\n",
        "*   Dia agendado: Dia agendado para consulta\n",
        "*   Idade: Idade do paciente\n",
        "*   Bairro: Bairro onde mora\n",
        "*   Bolsade Estudods: Classificação (0 ou 1 - 0 não / 1 sim)\n",
        "*   Hipertensão: Classificação (0 ou 1 - 0 não é hipertenso / 1 é hipertenso)\n",
        "*   Diabetes: Classificação (0 ou 1 - 0 não diabético / 1 diabético )\n",
        "*   Alcolismo: Classificação (0 ou 1 - 0 não / 1 sim)\n",
        "*   Deficiancia: Classificação (0 ou 1 - 0 não / 1  sim)\n"
      ]
    },
    {
      "cell_type": "code",
      "metadata": {
        "id": "pMcQUnqYuuao",
        "colab": {
          "base_uri": "https://localhost:8080/",
          "height": 377
        },
        "outputId": "e0be841e-c44b-44aa-aafc-2aca49ed82d9"
      },
      "source": [
        "# Queremos entender as primeiras linhas do nosso df\n",
        "# Podemos escolher a quantidade de linhas que queremos ver\n",
        "# Observe a quantidade de colunas que nosso df possui\n",
        "# head = cabeça (primeiras linhas do df)\n",
        "df.head()"
      ],
      "execution_count": 6,
      "outputs": [
        {
          "output_type": "execute_result",
          "data": {
            "text/html": [
              "<div>\n",
              "<style scoped>\n",
              "    .dataframe tbody tr th:only-of-type {\n",
              "        vertical-align: middle;\n",
              "    }\n",
              "\n",
              "    .dataframe tbody tr th {\n",
              "        vertical-align: top;\n",
              "    }\n",
              "\n",
              "    .dataframe thead th {\n",
              "        text-align: right;\n",
              "    }\n",
              "</style>\n",
              "<table border=\"1\" class=\"dataframe\">\n",
              "  <thead>\n",
              "    <tr style=\"text-align: right;\">\n",
              "      <th></th>\n",
              "      <th>PacienteId</th>\n",
              "      <th>EncontroID</th>\n",
              "      <th>Genero</th>\n",
              "      <th>DiadoAgendamento</th>\n",
              "      <th>DiaAgendado</th>\n",
              "      <th>Idade</th>\n",
              "      <th>Bairro</th>\n",
              "      <th>BolsadeEstudos</th>\n",
              "      <th>Hipertensao</th>\n",
              "      <th>Diabetes</th>\n",
              "      <th>Alcolismo</th>\n",
              "      <th>Deficiencia</th>\n",
              "      <th>SMS_recebido</th>\n",
              "      <th>Nao_mostrado</th>\n",
              "    </tr>\n",
              "  </thead>\n",
              "  <tbody>\n",
              "    <tr>\n",
              "      <th>0</th>\n",
              "      <td>2.987250e+13</td>\n",
              "      <td>5642903</td>\n",
              "      <td>F</td>\n",
              "      <td>2016-04-29T18:38:08Z</td>\n",
              "      <td>2016-04-29T00:00:00Z</td>\n",
              "      <td>62</td>\n",
              "      <td>JARDIM DA PENHA</td>\n",
              "      <td>0</td>\n",
              "      <td>1</td>\n",
              "      <td>0</td>\n",
              "      <td>0</td>\n",
              "      <td>0</td>\n",
              "      <td>0</td>\n",
              "      <td>No</td>\n",
              "    </tr>\n",
              "    <tr>\n",
              "      <th>1</th>\n",
              "      <td>5.589978e+14</td>\n",
              "      <td>5642503</td>\n",
              "      <td>M</td>\n",
              "      <td>2016-04-29T16:08:27Z</td>\n",
              "      <td>2016-04-29T00:00:00Z</td>\n",
              "      <td>56</td>\n",
              "      <td>JARDIM DA PENHA</td>\n",
              "      <td>0</td>\n",
              "      <td>0</td>\n",
              "      <td>0</td>\n",
              "      <td>0</td>\n",
              "      <td>0</td>\n",
              "      <td>0</td>\n",
              "      <td>No</td>\n",
              "    </tr>\n",
              "    <tr>\n",
              "      <th>2</th>\n",
              "      <td>4.262962e+12</td>\n",
              "      <td>5642549</td>\n",
              "      <td>F</td>\n",
              "      <td>2016-04-29T16:19:04Z</td>\n",
              "      <td>2016-04-29T00:00:00Z</td>\n",
              "      <td>62</td>\n",
              "      <td>MATA DA PRAIA</td>\n",
              "      <td>0</td>\n",
              "      <td>0</td>\n",
              "      <td>0</td>\n",
              "      <td>0</td>\n",
              "      <td>0</td>\n",
              "      <td>0</td>\n",
              "      <td>No</td>\n",
              "    </tr>\n",
              "    <tr>\n",
              "      <th>3</th>\n",
              "      <td>8.679512e+11</td>\n",
              "      <td>5642828</td>\n",
              "      <td>F</td>\n",
              "      <td>2016-04-29T17:29:31Z</td>\n",
              "      <td>2016-04-29T00:00:00Z</td>\n",
              "      <td>8</td>\n",
              "      <td>PONTAL DE CAMBURI</td>\n",
              "      <td>0</td>\n",
              "      <td>0</td>\n",
              "      <td>0</td>\n",
              "      <td>0</td>\n",
              "      <td>0</td>\n",
              "      <td>0</td>\n",
              "      <td>No</td>\n",
              "    </tr>\n",
              "    <tr>\n",
              "      <th>4</th>\n",
              "      <td>8.841186e+12</td>\n",
              "      <td>5642494</td>\n",
              "      <td>F</td>\n",
              "      <td>2016-04-29T16:07:23Z</td>\n",
              "      <td>2016-04-29T00:00:00Z</td>\n",
              "      <td>56</td>\n",
              "      <td>JARDIM DA PENHA</td>\n",
              "      <td>0</td>\n",
              "      <td>1</td>\n",
              "      <td>1</td>\n",
              "      <td>0</td>\n",
              "      <td>0</td>\n",
              "      <td>0</td>\n",
              "      <td>No</td>\n",
              "    </tr>\n",
              "  </tbody>\n",
              "</table>\n",
              "</div>"
            ],
            "text/plain": [
              "     PacienteId  EncontroID Genero  ... Deficiencia SMS_recebido  Nao_mostrado\n",
              "0  2.987250e+13     5642903      F  ...           0            0            No\n",
              "1  5.589978e+14     5642503      M  ...           0            0            No\n",
              "2  4.262962e+12     5642549      F  ...           0            0            No\n",
              "3  8.679512e+11     5642828      F  ...           0            0            No\n",
              "4  8.841186e+12     5642494      F  ...           0            0            No\n",
              "\n",
              "[5 rows x 14 columns]"
            ]
          },
          "metadata": {},
          "execution_count": 6
        }
      ]
    },
    {
      "cell_type": "code",
      "metadata": {
        "id": "jc9GYG7Bu-HW",
        "colab": {
          "base_uri": "https://localhost:8080/",
          "height": 309
        },
        "outputId": "437b6cd1-b4ba-4d23-92ac-b66ef17614b1"
      },
      "source": [
        "# Também podemos investigar quais são os valores das últimas linhas do nosso df\n",
        "# head = rabo (últimas linhas do df)\n",
        "df.tail()"
      ],
      "execution_count": 7,
      "outputs": [
        {
          "output_type": "execute_result",
          "data": {
            "text/html": [
              "<div>\n",
              "<style scoped>\n",
              "    .dataframe tbody tr th:only-of-type {\n",
              "        vertical-align: middle;\n",
              "    }\n",
              "\n",
              "    .dataframe tbody tr th {\n",
              "        vertical-align: top;\n",
              "    }\n",
              "\n",
              "    .dataframe thead th {\n",
              "        text-align: right;\n",
              "    }\n",
              "</style>\n",
              "<table border=\"1\" class=\"dataframe\">\n",
              "  <thead>\n",
              "    <tr style=\"text-align: right;\">\n",
              "      <th></th>\n",
              "      <th>PacienteId</th>\n",
              "      <th>EncontroID</th>\n",
              "      <th>Genero</th>\n",
              "      <th>DiadoAgendamento</th>\n",
              "      <th>DiaAgendado</th>\n",
              "      <th>Idade</th>\n",
              "      <th>Bairro</th>\n",
              "      <th>BolsadeEstudos</th>\n",
              "      <th>Hipertensao</th>\n",
              "      <th>Diabetes</th>\n",
              "      <th>Alcolismo</th>\n",
              "      <th>Deficiencia</th>\n",
              "      <th>SMS_recebido</th>\n",
              "      <th>Nao_mostrado</th>\n",
              "    </tr>\n",
              "  </thead>\n",
              "  <tbody>\n",
              "    <tr>\n",
              "      <th>110522</th>\n",
              "      <td>2.572134e+12</td>\n",
              "      <td>5651768</td>\n",
              "      <td>F</td>\n",
              "      <td>2016-05-03T09:15:35Z</td>\n",
              "      <td>2016-06-07T00:00:00Z</td>\n",
              "      <td>56</td>\n",
              "      <td>MARIA ORTIZ</td>\n",
              "      <td>0</td>\n",
              "      <td>0</td>\n",
              "      <td>0</td>\n",
              "      <td>0</td>\n",
              "      <td>0</td>\n",
              "      <td>1</td>\n",
              "      <td>No</td>\n",
              "    </tr>\n",
              "    <tr>\n",
              "      <th>110523</th>\n",
              "      <td>3.596266e+12</td>\n",
              "      <td>5650093</td>\n",
              "      <td>F</td>\n",
              "      <td>2016-05-03T07:27:33Z</td>\n",
              "      <td>2016-06-07T00:00:00Z</td>\n",
              "      <td>51</td>\n",
              "      <td>MARIA ORTIZ</td>\n",
              "      <td>0</td>\n",
              "      <td>0</td>\n",
              "      <td>0</td>\n",
              "      <td>0</td>\n",
              "      <td>0</td>\n",
              "      <td>1</td>\n",
              "      <td>No</td>\n",
              "    </tr>\n",
              "    <tr>\n",
              "      <th>110524</th>\n",
              "      <td>1.557663e+13</td>\n",
              "      <td>5630692</td>\n",
              "      <td>F</td>\n",
              "      <td>2016-04-27T16:03:52Z</td>\n",
              "      <td>2016-06-07T00:00:00Z</td>\n",
              "      <td>21</td>\n",
              "      <td>MARIA ORTIZ</td>\n",
              "      <td>0</td>\n",
              "      <td>0</td>\n",
              "      <td>0</td>\n",
              "      <td>0</td>\n",
              "      <td>0</td>\n",
              "      <td>1</td>\n",
              "      <td>No</td>\n",
              "    </tr>\n",
              "    <tr>\n",
              "      <th>110525</th>\n",
              "      <td>9.213493e+13</td>\n",
              "      <td>5630323</td>\n",
              "      <td>F</td>\n",
              "      <td>2016-04-27T15:09:23Z</td>\n",
              "      <td>2016-06-07T00:00:00Z</td>\n",
              "      <td>38</td>\n",
              "      <td>MARIA ORTIZ</td>\n",
              "      <td>0</td>\n",
              "      <td>0</td>\n",
              "      <td>0</td>\n",
              "      <td>0</td>\n",
              "      <td>0</td>\n",
              "      <td>1</td>\n",
              "      <td>No</td>\n",
              "    </tr>\n",
              "    <tr>\n",
              "      <th>110526</th>\n",
              "      <td>3.775115e+14</td>\n",
              "      <td>5629448</td>\n",
              "      <td>F</td>\n",
              "      <td>2016-04-27T13:30:56Z</td>\n",
              "      <td>2016-06-07T00:00:00Z</td>\n",
              "      <td>54</td>\n",
              "      <td>MARIA ORTIZ</td>\n",
              "      <td>0</td>\n",
              "      <td>0</td>\n",
              "      <td>0</td>\n",
              "      <td>0</td>\n",
              "      <td>0</td>\n",
              "      <td>1</td>\n",
              "      <td>No</td>\n",
              "    </tr>\n",
              "  </tbody>\n",
              "</table>\n",
              "</div>"
            ],
            "text/plain": [
              "          PacienteId  EncontroID Genero  ... Deficiencia SMS_recebido  Nao_mostrado\n",
              "110522  2.572134e+12     5651768      F  ...           0            1            No\n",
              "110523  3.596266e+12     5650093      F  ...           0            1            No\n",
              "110524  1.557663e+13     5630692      F  ...           0            1            No\n",
              "110525  9.213493e+13     5630323      F  ...           0            1            No\n",
              "110526  3.775115e+14     5629448      F  ...           0            1            No\n",
              "\n",
              "[5 rows x 14 columns]"
            ]
          },
          "metadata": {},
          "execution_count": 7
        }
      ]
    },
    {
      "cell_type": "code",
      "metadata": {
        "id": "ovapafCEsgaJ",
        "colab": {
          "base_uri": "https://localhost:8080/"
        },
        "outputId": "c134c026-8a53-4949-c2d2-52285586281b"
      },
      "source": [
        "df.columns"
      ],
      "execution_count": null,
      "outputs": [
        {
          "output_type": "execute_result",
          "data": {
            "text/plain": [
              "Index(['PacienteId', 'EncontroID', 'Genero', 'DiadoAgendamento', 'DiaAgendado',\n",
              "       'Idade', 'Bairro', 'BolsadeEstudos', 'Hipertensao', 'Diabetes',\n",
              "       'Alcolismo', 'Deficiencia', 'SMS_recebido', 'Nao_mostrado'],\n",
              "      dtype='object')"
            ]
          },
          "metadata": {
            "tags": []
          },
          "execution_count": 12
        }
      ]
    },
    {
      "cell_type": "code",
      "metadata": {
        "id": "86pIB6BCwD0p",
        "colab": {
          "base_uri": "https://localhost:8080/"
        },
        "outputId": "cabc30e2-7a30-4a9e-d7a3-65605b5d97d6"
      },
      "source": [
        "df.isnull().values.any()"
      ],
      "execution_count": null,
      "outputs": [
        {
          "output_type": "execute_result",
          "data": {
            "text/plain": [
              "False"
            ]
          },
          "metadata": {
            "tags": []
          },
          "execution_count": 13
        }
      ]
    },
    {
      "cell_type": "code",
      "metadata": {
        "id": "1sczuCMQqBDk",
        "colab": {
          "base_uri": "https://localhost:8080/"
        },
        "outputId": "931c110d-4fba-4541-9f85-464afb869656"
      },
      "source": [
        "# Informações gerais sobre o df\n",
        "df.info()"
      ],
      "execution_count": null,
      "outputs": [
        {
          "output_type": "stream",
          "text": [
            "<class 'pandas.core.frame.DataFrame'>\n",
            "RangeIndex: 110527 entries, 0 to 110526\n",
            "Data columns (total 14 columns):\n",
            " #   Column            Non-Null Count   Dtype  \n",
            "---  ------            --------------   -----  \n",
            " 0   PacienteId        110527 non-null  float64\n",
            " 1   EncontroID        110527 non-null  int64  \n",
            " 2   Genero            110527 non-null  object \n",
            " 3   DiadoAgendamento  110527 non-null  object \n",
            " 4   DiaAgendado       110527 non-null  object \n",
            " 5   Idade             110527 non-null  int64  \n",
            " 6   Bairro            110527 non-null  object \n",
            " 7   BolsadeEstudos    110527 non-null  int64  \n",
            " 8   Hipertensao       110527 non-null  int64  \n",
            " 9   Diabetes          110527 non-null  int64  \n",
            " 10  Alcolismo         110527 non-null  int64  \n",
            " 11  Deficiencia       110527 non-null  int64  \n",
            " 12  SMS_recebido      110527 non-null  int64  \n",
            " 13  Nao_mostrado      110527 non-null  object \n",
            "dtypes: float64(1), int64(8), object(5)\n",
            "memory usage: 11.8+ MB\n"
          ],
          "name": "stdout"
        }
      ]
    },
    {
      "cell_type": "code",
      "metadata": {
        "id": "3_AHZQ92qPDU",
        "colab": {
          "base_uri": "https://localhost:8080/",
          "height": 317
        },
        "outputId": "681bfe2c-c130-4486-b1dc-2b9443e13c1b"
      },
      "source": [
        "# describe = medidas estatísticas básicas do df\n",
        "df.describe()"
      ],
      "execution_count": null,
      "outputs": [
        {
          "output_type": "execute_result",
          "data": {
            "text/html": [
              "<div>\n",
              "<style scoped>\n",
              "    .dataframe tbody tr th:only-of-type {\n",
              "        vertical-align: middle;\n",
              "    }\n",
              "\n",
              "    .dataframe tbody tr th {\n",
              "        vertical-align: top;\n",
              "    }\n",
              "\n",
              "    .dataframe thead th {\n",
              "        text-align: right;\n",
              "    }\n",
              "</style>\n",
              "<table border=\"1\" class=\"dataframe\">\n",
              "  <thead>\n",
              "    <tr style=\"text-align: right;\">\n",
              "      <th></th>\n",
              "      <th>PacienteId</th>\n",
              "      <th>EncontroID</th>\n",
              "      <th>Idade</th>\n",
              "      <th>BolsadeEstudos</th>\n",
              "      <th>Hipertensao</th>\n",
              "      <th>Diabetes</th>\n",
              "      <th>Alcolismo</th>\n",
              "      <th>Deficiencia</th>\n",
              "      <th>SMS_recebido</th>\n",
              "    </tr>\n",
              "  </thead>\n",
              "  <tbody>\n",
              "    <tr>\n",
              "      <th>count</th>\n",
              "      <td>1.105270e+05</td>\n",
              "      <td>1.105270e+05</td>\n",
              "      <td>110527.000000</td>\n",
              "      <td>110527.000000</td>\n",
              "      <td>110527.000000</td>\n",
              "      <td>110527.000000</td>\n",
              "      <td>110527.000000</td>\n",
              "      <td>110527.000000</td>\n",
              "      <td>110527.000000</td>\n",
              "    </tr>\n",
              "    <tr>\n",
              "      <th>mean</th>\n",
              "      <td>1.474963e+14</td>\n",
              "      <td>5.675305e+06</td>\n",
              "      <td>37.088874</td>\n",
              "      <td>0.098266</td>\n",
              "      <td>0.197246</td>\n",
              "      <td>0.071865</td>\n",
              "      <td>0.030400</td>\n",
              "      <td>0.022248</td>\n",
              "      <td>0.321026</td>\n",
              "    </tr>\n",
              "    <tr>\n",
              "      <th>std</th>\n",
              "      <td>2.560949e+14</td>\n",
              "      <td>7.129575e+04</td>\n",
              "      <td>23.110205</td>\n",
              "      <td>0.297675</td>\n",
              "      <td>0.397921</td>\n",
              "      <td>0.258265</td>\n",
              "      <td>0.171686</td>\n",
              "      <td>0.161543</td>\n",
              "      <td>0.466873</td>\n",
              "    </tr>\n",
              "    <tr>\n",
              "      <th>min</th>\n",
              "      <td>3.921784e+04</td>\n",
              "      <td>5.030230e+06</td>\n",
              "      <td>-1.000000</td>\n",
              "      <td>0.000000</td>\n",
              "      <td>0.000000</td>\n",
              "      <td>0.000000</td>\n",
              "      <td>0.000000</td>\n",
              "      <td>0.000000</td>\n",
              "      <td>0.000000</td>\n",
              "    </tr>\n",
              "    <tr>\n",
              "      <th>25%</th>\n",
              "      <td>4.172614e+12</td>\n",
              "      <td>5.640286e+06</td>\n",
              "      <td>18.000000</td>\n",
              "      <td>0.000000</td>\n",
              "      <td>0.000000</td>\n",
              "      <td>0.000000</td>\n",
              "      <td>0.000000</td>\n",
              "      <td>0.000000</td>\n",
              "      <td>0.000000</td>\n",
              "    </tr>\n",
              "    <tr>\n",
              "      <th>50%</th>\n",
              "      <td>3.173184e+13</td>\n",
              "      <td>5.680573e+06</td>\n",
              "      <td>37.000000</td>\n",
              "      <td>0.000000</td>\n",
              "      <td>0.000000</td>\n",
              "      <td>0.000000</td>\n",
              "      <td>0.000000</td>\n",
              "      <td>0.000000</td>\n",
              "      <td>0.000000</td>\n",
              "    </tr>\n",
              "    <tr>\n",
              "      <th>75%</th>\n",
              "      <td>9.439172e+13</td>\n",
              "      <td>5.725524e+06</td>\n",
              "      <td>55.000000</td>\n",
              "      <td>0.000000</td>\n",
              "      <td>0.000000</td>\n",
              "      <td>0.000000</td>\n",
              "      <td>0.000000</td>\n",
              "      <td>0.000000</td>\n",
              "      <td>1.000000</td>\n",
              "    </tr>\n",
              "    <tr>\n",
              "      <th>max</th>\n",
              "      <td>9.999816e+14</td>\n",
              "      <td>5.790484e+06</td>\n",
              "      <td>115.000000</td>\n",
              "      <td>1.000000</td>\n",
              "      <td>1.000000</td>\n",
              "      <td>1.000000</td>\n",
              "      <td>1.000000</td>\n",
              "      <td>4.000000</td>\n",
              "      <td>1.000000</td>\n",
              "    </tr>\n",
              "  </tbody>\n",
              "</table>\n",
              "</div>"
            ],
            "text/plain": [
              "         PacienteId    EncontroID  ...    Deficiencia   SMS_recebido\n",
              "count  1.105270e+05  1.105270e+05  ...  110527.000000  110527.000000\n",
              "mean   1.474963e+14  5.675305e+06  ...       0.022248       0.321026\n",
              "std    2.560949e+14  7.129575e+04  ...       0.161543       0.466873\n",
              "min    3.921784e+04  5.030230e+06  ...       0.000000       0.000000\n",
              "25%    4.172614e+12  5.640286e+06  ...       0.000000       0.000000\n",
              "50%    3.173184e+13  5.680573e+06  ...       0.000000       0.000000\n",
              "75%    9.439172e+13  5.725524e+06  ...       0.000000       1.000000\n",
              "max    9.999816e+14  5.790484e+06  ...       4.000000       1.000000\n",
              "\n",
              "[8 rows x 9 columns]"
            ]
          },
          "metadata": {
            "tags": []
          },
          "execution_count": 15
        }
      ]
    },
    {
      "cell_type": "code",
      "metadata": {
        "id": "dMvdDTsDq-uN",
        "colab": {
          "base_uri": "https://localhost:8080/"
        },
        "outputId": "d9fe8612-d40c-41e3-fa27-0e3a1d80868c"
      },
      "source": [
        "# Quantidade de casos de Diabetes (outcomes)\n",
        "df['Hipertensao'].value_counts()"
      ],
      "execution_count": null,
      "outputs": [
        {
          "output_type": "execute_result",
          "data": {
            "text/plain": [
              "0    88726\n",
              "1    21801\n",
              "Name: Hipertensao, dtype: int64"
            ]
          },
          "metadata": {
            "tags": []
          },
          "execution_count": 16
        }
      ]
    },
    {
      "cell_type": "code",
      "metadata": {
        "id": "BaVVj3HrxPO8",
        "colab": {
          "base_uri": "https://localhost:8080/",
          "height": 511,
          "referenced_widgets": [
            "cd287ace57714efc8d001ab79ddcc834",
            "eb367c1d9fc84053a7d238f632d696af",
            "439ed458260a44629b374df67ce93cf6",
            "02951346398b434ea1bf81ad7fca2fe5",
            "a1bc5bc524d44c32be5e6a3ed469e08e",
            "6fcaec882f4545f2bd9e576ae8dc7726",
            "be695398e6b14e0ea366745eaef95ace",
            "194b57513e2f40a5963bb106484cecbc",
            "810bf8463ec34c36b1ae4ff5dc3c9653",
            "895d661db9714e00a45a2d0d9d17c6a5",
            "b75fc90bc7bb48fab83df4a0c6480a42"
          ]
        },
        "outputId": "5d278a59-a4b6-40bf-a9f7-06cbb0c80d9b"
      },
      "source": [
        "# Usar a biblioteca SWEETVIZ para fazer EDA\n",
        "# Para instalar o pacote sweetviz\n",
        "!pip install sweetviz\n",
        "# Importando o pacote\n",
        "import sweetviz as sv\n",
        "#Utilizando\n",
        "analise = sv.analyze(df)\n",
        "analise.show_html('Hipertensao.html')"
      ],
      "execution_count": null,
      "outputs": [
        {
          "output_type": "stream",
          "text": [
            "Collecting sweetviz\n",
            "\u001b[?25l  Downloading https://files.pythonhosted.org/packages/6c/ab/5ef84ee47e5344e9a23d69e0b52c11aba9d8be658d4e85c3c52d4e7d9130/sweetviz-2.1.0-py3-none-any.whl (15.1MB)\n",
            "\u001b[K     |████████████████████████████████| 15.1MB 243kB/s \n",
            "\u001b[?25hRequirement already satisfied: numpy>=1.16.0 in /usr/local/lib/python3.7/dist-packages (from sweetviz) (1.19.5)\n",
            "Requirement already satisfied: scipy>=1.3.2 in /usr/local/lib/python3.7/dist-packages (from sweetviz) (1.4.1)\n",
            "Collecting tqdm>=4.43.0\n",
            "\u001b[?25l  Downloading https://files.pythonhosted.org/packages/72/8a/34efae5cf9924328a8f34eeb2fdaae14c011462d9f0e3fcded48e1266d1c/tqdm-4.60.0-py2.py3-none-any.whl (75kB)\n",
            "\u001b[K     |████████████████████████████████| 81kB 6.3MB/s \n",
            "\u001b[?25hRequirement already satisfied: importlib-resources>=1.2.0 in /usr/local/lib/python3.7/dist-packages (from sweetviz) (5.1.2)\n",
            "Requirement already satisfied: matplotlib>=3.1.3 in /usr/local/lib/python3.7/dist-packages (from sweetviz) (3.2.2)\n",
            "Requirement already satisfied: pandas!=1.0.0,!=1.0.1,!=1.0.2,>=0.25.3 in /usr/local/lib/python3.7/dist-packages (from sweetviz) (1.1.5)\n",
            "Requirement already satisfied: jinja2>=2.11.1 in /usr/local/lib/python3.7/dist-packages (from sweetviz) (2.11.3)\n",
            "Requirement already satisfied: zipp>=0.4; python_version < \"3.8\" in /usr/local/lib/python3.7/dist-packages (from importlib-resources>=1.2.0->sweetviz) (3.4.1)\n",
            "Requirement already satisfied: python-dateutil>=2.1 in /usr/local/lib/python3.7/dist-packages (from matplotlib>=3.1.3->sweetviz) (2.8.1)\n",
            "Requirement already satisfied: cycler>=0.10 in /usr/local/lib/python3.7/dist-packages (from matplotlib>=3.1.3->sweetviz) (0.10.0)\n",
            "Requirement already satisfied: kiwisolver>=1.0.1 in /usr/local/lib/python3.7/dist-packages (from matplotlib>=3.1.3->sweetviz) (1.3.1)\n",
            "Requirement already satisfied: pyparsing!=2.0.4,!=2.1.2,!=2.1.6,>=2.0.1 in /usr/local/lib/python3.7/dist-packages (from matplotlib>=3.1.3->sweetviz) (2.4.7)\n",
            "Requirement already satisfied: pytz>=2017.2 in /usr/local/lib/python3.7/dist-packages (from pandas!=1.0.0,!=1.0.1,!=1.0.2,>=0.25.3->sweetviz) (2018.9)\n",
            "Requirement already satisfied: MarkupSafe>=0.23 in /usr/local/lib/python3.7/dist-packages (from jinja2>=2.11.1->sweetviz) (1.1.1)\n",
            "Requirement already satisfied: six>=1.5 in /usr/local/lib/python3.7/dist-packages (from python-dateutil>=2.1->matplotlib>=3.1.3->sweetviz) (1.15.0)\n",
            "Installing collected packages: tqdm, sweetviz\n",
            "  Found existing installation: tqdm 4.41.1\n",
            "    Uninstalling tqdm-4.41.1:\n",
            "      Successfully uninstalled tqdm-4.41.1\n",
            "Successfully installed sweetviz-2.1.0 tqdm-4.60.0\n"
          ],
          "name": "stdout"
        },
        {
          "output_type": "display_data",
          "data": {
            "application/vnd.jupyter.widget-view+json": {
              "model_id": "cd287ace57714efc8d001ab79ddcc834",
              "version_minor": 0,
              "version_major": 2
            },
            "text/plain": [
              "                                             |          | [  0%]   00:00 -> (? left)"
            ]
          },
          "metadata": {
            "tags": []
          }
        },
        {
          "output_type": "stream",
          "text": [
            "Report Hipertensao.html was generated! NOTEBOOK/COLAB USERS: the web browser MAY not pop up, regardless, the report IS saved in your notebook/colab files.\n"
          ],
          "name": "stdout"
        }
      ]
    },
    {
      "cell_type": "code",
      "metadata": {
        "id": "JzdiEUdjwuw0"
      },
      "source": [
        "def plot_corr(df, size=7):\n",
        "  corr= df.corr()\n",
        "  fig, ax = plt.subplots(figsize=(size, size))\n",
        "  ax.matshow(corr)\n",
        "  plt.xticks(range(len(corr.columns)), corr.columns)\n",
        "  plt.yticks(range(len(corr.columns)), corr.columns)"
      ],
      "execution_count": null,
      "outputs": []
    },
    {
      "cell_type": "code",
      "metadata": {
        "id": "l6fasb4LyLHE",
        "colab": {
          "base_uri": "https://localhost:8080/",
          "height": 590
        },
        "outputId": "7ce4cb1c-35a8-4c17-ab20-aae76d238e6c"
      },
      "source": [
        "plot_corr(df)"
      ],
      "execution_count": null,
      "outputs": [
        {
          "output_type": "display_data",
          "data": {
            "image/png": "[encoded data removed]",
            "text/plain": [
              "<Figure size 700x700 with 1 Axes>"
            ]
          },
          "metadata": {
            "tags": []
          }
        }
      ]
    },
    {
      "cell_type": "code",
      "metadata": {
        "id": "Aufo2HQWzGOZ",
        "colab": {
          "base_uri": "https://localhost:8080/",
          "height": 328
        },
        "outputId": "f7de06eb-28f9-428b-cda7-f9aa93406bd9"
      },
      "source": [
        "df.corr()"
      ],
      "execution_count": null,
      "outputs": [
        {
          "output_type": "execute_result",
          "data": {
            "text/html": [
              "<div>\n",
              "<style scoped>\n",
              "    .dataframe tbody tr th:only-of-type {\n",
              "        vertical-align: middle;\n",
              "    }\n",
              "\n",
              "    .dataframe tbody tr th {\n",
              "        vertical-align: top;\n",
              "    }\n",
              "\n",
              "    .dataframe thead th {\n",
              "        text-align: right;\n",
              "    }\n",
              "</style>\n",
              "<table border=\"1\" class=\"dataframe\">\n",
              "  <thead>\n",
              "    <tr style=\"text-align: right;\">\n",
              "      <th></th>\n",
              "      <th>PacienteId</th>\n",
              "      <th>EncontroID</th>\n",
              "      <th>Idade</th>\n",
              "      <th>BolsadeEstudos</th>\n",
              "      <th>Hipertensao</th>\n",
              "      <th>Diabetes</th>\n",
              "      <th>Alcolismo</th>\n",
              "      <th>Deficiencia</th>\n",
              "      <th>SMS_recebido</th>\n",
              "    </tr>\n",
              "  </thead>\n",
              "  <tbody>\n",
              "    <tr>\n",
              "      <th>PacienteId</th>\n",
              "      <td>1.000000</td>\n",
              "      <td>0.004039</td>\n",
              "      <td>-0.004139</td>\n",
              "      <td>-0.002880</td>\n",
              "      <td>-0.006441</td>\n",
              "      <td>0.001605</td>\n",
              "      <td>0.011011</td>\n",
              "      <td>-0.007916</td>\n",
              "      <td>-0.009749</td>\n",
              "    </tr>\n",
              "    <tr>\n",
              "      <th>EncontroID</th>\n",
              "      <td>0.004039</td>\n",
              "      <td>1.000000</td>\n",
              "      <td>-0.019126</td>\n",
              "      <td>0.022615</td>\n",
              "      <td>0.012752</td>\n",
              "      <td>0.022628</td>\n",
              "      <td>0.032944</td>\n",
              "      <td>0.014106</td>\n",
              "      <td>-0.256618</td>\n",
              "    </tr>\n",
              "    <tr>\n",
              "      <th>Idade</th>\n",
              "      <td>-0.004139</td>\n",
              "      <td>-0.019126</td>\n",
              "      <td>1.000000</td>\n",
              "      <td>-0.092457</td>\n",
              "      <td>0.504586</td>\n",
              "      <td>0.292391</td>\n",
              "      <td>0.095811</td>\n",
              "      <td>0.078033</td>\n",
              "      <td>0.012643</td>\n",
              "    </tr>\n",
              "    <tr>\n",
              "      <th>BolsadeEstudos</th>\n",
              "      <td>-0.002880</td>\n",
              "      <td>0.022615</td>\n",
              "      <td>-0.092457</td>\n",
              "      <td>1.000000</td>\n",
              "      <td>-0.019729</td>\n",
              "      <td>-0.024894</td>\n",
              "      <td>0.035022</td>\n",
              "      <td>-0.008586</td>\n",
              "      <td>0.001194</td>\n",
              "    </tr>\n",
              "    <tr>\n",
              "      <th>Hipertensao</th>\n",
              "      <td>-0.006441</td>\n",
              "      <td>0.012752</td>\n",
              "      <td>0.504586</td>\n",
              "      <td>-0.019729</td>\n",
              "      <td>1.000000</td>\n",
              "      <td>0.433086</td>\n",
              "      <td>0.087971</td>\n",
              "      <td>0.080083</td>\n",
              "      <td>-0.006267</td>\n",
              "    </tr>\n",
              "    <tr>\n",
              "      <th>Diabetes</th>\n",
              "      <td>0.001605</td>\n",
              "      <td>0.022628</td>\n",
              "      <td>0.292391</td>\n",
              "      <td>-0.024894</td>\n",
              "      <td>0.433086</td>\n",
              "      <td>1.000000</td>\n",
              "      <td>0.018474</td>\n",
              "      <td>0.057530</td>\n",
              "      <td>-0.014550</td>\n",
              "    </tr>\n",
              "    <tr>\n",
              "      <th>Alcolismo</th>\n",
              "      <td>0.011011</td>\n",
              "      <td>0.032944</td>\n",
              "      <td>0.095811</td>\n",
              "      <td>0.035022</td>\n",
              "      <td>0.087971</td>\n",
              "      <td>0.018474</td>\n",
              "      <td>1.000000</td>\n",
              "      <td>0.004648</td>\n",
              "      <td>-0.026147</td>\n",
              "    </tr>\n",
              "    <tr>\n",
              "      <th>Deficiencia</th>\n",
              "      <td>-0.007916</td>\n",
              "      <td>0.014106</td>\n",
              "      <td>0.078033</td>\n",
              "      <td>-0.008586</td>\n",
              "      <td>0.080083</td>\n",
              "      <td>0.057530</td>\n",
              "      <td>0.004648</td>\n",
              "      <td>1.000000</td>\n",
              "      <td>-0.024161</td>\n",
              "    </tr>\n",
              "    <tr>\n",
              "      <th>SMS_recebido</th>\n",
              "      <td>-0.009749</td>\n",
              "      <td>-0.256618</td>\n",
              "      <td>0.012643</td>\n",
              "      <td>0.001194</td>\n",
              "      <td>-0.006267</td>\n",
              "      <td>-0.014550</td>\n",
              "      <td>-0.026147</td>\n",
              "      <td>-0.024161</td>\n",
              "      <td>1.000000</td>\n",
              "    </tr>\n",
              "  </tbody>\n",
              "</table>\n",
              "</div>"
            ],
            "text/plain": [
              "                PacienteId  EncontroID  ...  Deficiencia  SMS_recebido\n",
              "PacienteId        1.000000    0.004039  ...    -0.007916     -0.009749\n",
              "EncontroID        0.004039    1.000000  ...     0.014106     -0.256618\n",
              "Idade            -0.004139   -0.019126  ...     0.078033      0.012643\n",
              "BolsadeEstudos   -0.002880    0.022615  ...    -0.008586      0.001194\n",
              "Hipertensao      -0.006441    0.012752  ...     0.080083     -0.006267\n",
              "Diabetes          0.001605    0.022628  ...     0.057530     -0.014550\n",
              "Alcolismo         0.011011    0.032944  ...     0.004648     -0.026147\n",
              "Deficiencia      -0.007916    0.014106  ...     1.000000     -0.024161\n",
              "SMS_recebido     -0.009749   -0.256618  ...    -0.024161      1.000000\n",
              "\n",
              "[9 rows x 9 columns]"
            ]
          },
          "metadata": {
            "tags": []
          },
          "execution_count": 20
        }
      ]
    },
    {
      "cell_type": "code",
      "metadata": {
        "id": "-GqGOgaEdWNL",
        "colab": {
          "base_uri": "https://localhost:8080/",
          "height": 328
        },
        "outputId": "25fcbfad-d7b9-44c7-d346-a9b196906e8f"
      },
      "source": [
        "# Outra maneira de avaliar a coorelação entre as variáveis\n",
        "import seaborn as sns\n",
        "sns.set(color_codes=True)\n",
        "cor=df.corr()\n",
        "cor"
      ],
      "execution_count": null,
      "outputs": [
        {
          "output_type": "execute_result",
          "data": {
            "text/html": [
              "<div>\n",
              "<style scoped>\n",
              "    .dataframe tbody tr th:only-of-type {\n",
              "        vertical-align: middle;\n",
              "    }\n",
              "\n",
              "    .dataframe tbody tr th {\n",
              "        vertical-align: top;\n",
              "    }\n",
              "\n",
              "    .dataframe thead th {\n",
              "        text-align: right;\n",
              "    }\n",
              "</style>\n",
              "<table border=\"1\" class=\"dataframe\">\n",
              "  <thead>\n",
              "    <tr style=\"text-align: right;\">\n",
              "      <th></th>\n",
              "      <th>PacienteId</th>\n",
              "      <th>EncontroID</th>\n",
              "      <th>Idade</th>\n",
              "      <th>BolsadeEstudos</th>\n",
              "      <th>Hipertensao</th>\n",
              "      <th>Diabetes</th>\n",
              "      <th>Alcolismo</th>\n",
              "      <th>Deficiencia</th>\n",
              "      <th>SMS_recebido</th>\n",
              "    </tr>\n",
              "  </thead>\n",
              "  <tbody>\n",
              "    <tr>\n",
              "      <th>PacienteId</th>\n",
              "      <td>1.000000</td>\n",
              "      <td>0.004039</td>\n",
              "      <td>-0.004139</td>\n",
              "      <td>-0.002880</td>\n",
              "      <td>-0.006441</td>\n",
              "      <td>0.001605</td>\n",
              "      <td>0.011011</td>\n",
              "      <td>-0.007916</td>\n",
              "      <td>-0.009749</td>\n",
              "    </tr>\n",
              "    <tr>\n",
              "      <th>EncontroID</th>\n",
              "      <td>0.004039</td>\n",
              "      <td>1.000000</td>\n",
              "      <td>-0.019126</td>\n",
              "      <td>0.022615</td>\n",
              "      <td>0.012752</td>\n",
              "      <td>0.022628</td>\n",
              "      <td>0.032944</td>\n",
              "      <td>0.014106</td>\n",
              "      <td>-0.256618</td>\n",
              "    </tr>\n",
              "    <tr>\n",
              "      <th>Idade</th>\n",
              "      <td>-0.004139</td>\n",
              "      <td>-0.019126</td>\n",
              "      <td>1.000000</td>\n",
              "      <td>-0.092457</td>\n",
              "      <td>0.504586</td>\n",
              "      <td>0.292391</td>\n",
              "      <td>0.095811</td>\n",
              "      <td>0.078033</td>\n",
              "      <td>0.012643</td>\n",
              "    </tr>\n",
              "    <tr>\n",
              "      <th>BolsadeEstudos</th>\n",
              "      <td>-0.002880</td>\n",
              "      <td>0.022615</td>\n",
              "      <td>-0.092457</td>\n",
              "      <td>1.000000</td>\n",
              "      <td>-0.019729</td>\n",
              "      <td>-0.024894</td>\n",
              "      <td>0.035022</td>\n",
              "      <td>-0.008586</td>\n",
              "      <td>0.001194</td>\n",
              "    </tr>\n",
              "    <tr>\n",
              "      <th>Hipertensao</th>\n",
              "      <td>-0.006441</td>\n",
              "      <td>0.012752</td>\n",
              "      <td>0.504586</td>\n",
              "      <td>-0.019729</td>\n",
              "      <td>1.000000</td>\n",
              "      <td>0.433086</td>\n",
              "      <td>0.087971</td>\n",
              "      <td>0.080083</td>\n",
              "      <td>-0.006267</td>\n",
              "    </tr>\n",
              "    <tr>\n",
              "      <th>Diabetes</th>\n",
              "      <td>0.001605</td>\n",
              "      <td>0.022628</td>\n",
              "      <td>0.292391</td>\n",
              "      <td>-0.024894</td>\n",
              "      <td>0.433086</td>\n",
              "      <td>1.000000</td>\n",
              "      <td>0.018474</td>\n",
              "      <td>0.057530</td>\n",
              "      <td>-0.014550</td>\n",
              "    </tr>\n",
              "    <tr>\n",
              "      <th>Alcolismo</th>\n",
              "      <td>0.011011</td>\n",
              "      <td>0.032944</td>\n",
              "      <td>0.095811</td>\n",
              "      <td>0.035022</td>\n",
              "      <td>0.087971</td>\n",
              "      <td>0.018474</td>\n",
              "      <td>1.000000</td>\n",
              "      <td>0.004648</td>\n",
              "      <td>-0.026147</td>\n",
              "    </tr>\n",
              "    <tr>\n",
              "      <th>Deficiencia</th>\n",
              "      <td>-0.007916</td>\n",
              "      <td>0.014106</td>\n",
              "      <td>0.078033</td>\n",
              "      <td>-0.008586</td>\n",
              "      <td>0.080083</td>\n",
              "      <td>0.057530</td>\n",
              "      <td>0.004648</td>\n",
              "      <td>1.000000</td>\n",
              "      <td>-0.024161</td>\n",
              "    </tr>\n",
              "    <tr>\n",
              "      <th>SMS_recebido</th>\n",
              "      <td>-0.009749</td>\n",
              "      <td>-0.256618</td>\n",
              "      <td>0.012643</td>\n",
              "      <td>0.001194</td>\n",
              "      <td>-0.006267</td>\n",
              "      <td>-0.014550</td>\n",
              "      <td>-0.026147</td>\n",
              "      <td>-0.024161</td>\n",
              "      <td>1.000000</td>\n",
              "    </tr>\n",
              "  </tbody>\n",
              "</table>\n",
              "</div>"
            ],
            "text/plain": [
              "                PacienteId  EncontroID  ...  Deficiencia  SMS_recebido\n",
              "PacienteId        1.000000    0.004039  ...    -0.007916     -0.009749\n",
              "EncontroID        0.004039    1.000000  ...     0.014106     -0.256618\n",
              "Idade            -0.004139   -0.019126  ...     0.078033      0.012643\n",
              "BolsadeEstudos   -0.002880    0.022615  ...    -0.008586      0.001194\n",
              "Hipertensao      -0.006441    0.012752  ...     0.080083     -0.006267\n",
              "Diabetes          0.001605    0.022628  ...     0.057530     -0.014550\n",
              "Alcolismo         0.011011    0.032944  ...     0.004648     -0.026147\n",
              "Deficiencia      -0.007916    0.014106  ...     1.000000     -0.024161\n",
              "SMS_recebido     -0.009749   -0.256618  ...    -0.024161      1.000000\n",
              "\n",
              "[9 rows x 9 columns]"
            ]
          },
          "metadata": {
            "tags": []
          },
          "execution_count": 21
        }
      ]
    },
    {
      "cell_type": "code",
      "metadata": {
        "id": "-t8eF--JeZQm",
        "colab": {
          "base_uri": "https://localhost:8080/",
          "height": 496
        },
        "outputId": "b016668e-86c3-4190-f4cf-444fa11761a2"
      },
      "source": [
        "# Matriz de Correlação\n",
        "sns.heatmap(cor,annot=True)"
      ],
      "execution_count": null,
      "outputs": [
        {
          "output_type": "execute_result",
          "data": {
            "text/plain": [
              "<matplotlib.axes._subplots.AxesSubplot at 0x7ff2629da6d0>"
            ]
          },
          "metadata": {
            "tags": []
          },
          "execution_count": 22
        },
        {
          "output_type": "display_data",
          "data": {
            "image/png": "[encoded data removed]",
            "text/plain": [
              "<Figure size 600x400 with 2 Axes>"
            ]
          },
          "metadata": {
            "tags": []
          }
        }
      ]
    },
    {
      "cell_type": "code",
      "metadata": {
        "id": "g6jBpJUY09W4",
        "colab": {
          "base_uri": "https://localhost:8080/"
        },
        "outputId": "46edc861-7821-4cbc-e08e-bbb16dda8695"
      },
      "source": [
        "num_true = len(df.loc[df['Hipertensao'] == True])\n",
        "num_false = len(df.loc[df['Hipertensao'] == False])\n",
        "print(\"Número de Casos Verdadeiros: {0} ({1:2.2f}%)\".format(num_true, (num_true/ (num_true + num_false)) * 100))\n",
        "print(\"Número de Casos Falsos     : {0} ({1:2.2f}%)\".format(num_false, (num_false/ (num_true + num_false)) * 100))"
      ],
      "execution_count": null,
      "outputs": [
        {
          "output_type": "stream",
          "text": [
            "Número de Casos Verdadeiros: 21801 (19.72%)\n",
            "Número de Casos Falsos     : 88726 (80.28%)\n"
          ],
          "name": "stdout"
        }
      ]
    },
    {
      "cell_type": "markdown",
      "metadata": {
        "id": "VLQNTeNw30Gx"
      },
      "source": [
        "### **Dividir o Banco de Dados**"
      ]
    },
    {
      "cell_type": "markdown",
      "metadata": {
        "id": "IkKCOggxmoMC"
      },
      "source": [
        "Para melhorar a análise, vamos dividir nosso banco de dados em 2: \n",
        "\n",
        "1.   Banco de dados de treino\n",
        "2.   Banco de dados de teste"
      ]
    },
    {
      "cell_type": "code",
      "metadata": {
        "id": "PLWpnc-_89l1",
        "colab": {
          "base_uri": "https://localhost:8080/",
          "height": 35
        },
        "outputId": "bba38067-af5e-4a08-da60-81278930f963"
      },
      "source": [
        "import sklearn as sk\n",
        "sk.__version__"
      ],
      "execution_count": null,
      "outputs": [
        {
          "output_type": "execute_result",
          "data": {
            "application/vnd.google.colaboratory.intrinsic+json": {
              "type": "string"
            },
            "text/plain": [
              "'0.22.2.post1'"
            ]
          },
          "metadata": {
            "tags": []
          },
          "execution_count": 24
        }
      ]
    },
    {
      "cell_type": "code",
      "metadata": {
        "id": "Bj30T7gi3yrI"
      },
      "source": [
        "from sklearn.model_selection import train_test_split"
      ],
      "execution_count": null,
      "outputs": []
    },
    {
      "cell_type": "code",
      "metadata": {
        "id": "jmzqTKPX00cJ"
      },
      "source": [
        "atributos = ['PacienteId', 'EncontroID',\n",
        "       'Idade', 'BolsadeEstudos', 'Hipertensao', 'Diabetes',\n",
        "       'Alcolismo', 'Deficiencia', 'SMS_recebido']"
      ],
      "execution_count": null,
      "outputs": []
    },
    {
      "cell_type": "code",
      "metadata": {
        "id": "KB1Z4Ffy3xck"
      },
      "source": [
        "atributos_prev= ['Hipertensao']"
      ],
      "execution_count": null,
      "outputs": []
    },
    {
      "cell_type": "code",
      "metadata": {
        "id": "DtOqGCXb7DHz"
      },
      "source": [
        "X = df[atributos].values\n",
        "y = df[atributos_prev].values"
      ],
      "execution_count": null,
      "outputs": []
    },
    {
      "cell_type": "code",
      "metadata": {
        "id": "w4Hs0FT56Lzu",
        "colab": {
          "base_uri": "https://localhost:8080/"
        },
        "outputId": "8b1d9f49-a844-4f36-d488-3fe43978b89b"
      },
      "source": [
        "X"
      ],
      "execution_count": null,
      "outputs": [
        {
          "output_type": "execute_result",
          "data": {
            "text/plain": [
              "array([[2.98724998e+13, 5.64290300e+06, 6.20000000e+01, ...,\n",
              "        0.00000000e+00, 0.00000000e+00, 0.00000000e+00],\n",
              "       [5.58997777e+14, 5.64250300e+06, 5.60000000e+01, ...,\n",
              "        0.00000000e+00, 0.00000000e+00, 0.00000000e+00],\n",
              "       [4.26296230e+12, 5.64254900e+06, 6.20000000e+01, ...,\n",
              "        0.00000000e+00, 0.00000000e+00, 0.00000000e+00],\n",
              "       ...,\n",
              "       [1.55766317e+13, 5.63069200e+06, 2.10000000e+01, ...,\n",
              "        0.00000000e+00, 0.00000000e+00, 1.00000000e+00],\n",
              "       [9.21349314e+13, 5.63032300e+06, 3.80000000e+01, ...,\n",
              "        0.00000000e+00, 0.00000000e+00, 1.00000000e+00],\n",
              "       [3.77511518e+14, 5.62944800e+06, 5.40000000e+01, ...,\n",
              "        0.00000000e+00, 0.00000000e+00, 1.00000000e+00]])"
            ]
          },
          "metadata": {
            "tags": []
          },
          "execution_count": 29
        }
      ]
    },
    {
      "cell_type": "code",
      "metadata": {
        "id": "7pCN8L43QM7I",
        "colab": {
          "base_uri": "https://localhost:8080/"
        },
        "outputId": "66699599-31c6-4074-d549-e193106366e6"
      },
      "source": [
        "y"
      ],
      "execution_count": null,
      "outputs": [
        {
          "output_type": "execute_result",
          "data": {
            "text/plain": [
              "array([[1],\n",
              "       [0],\n",
              "       [0],\n",
              "       ...,\n",
              "       [0],\n",
              "       [0],\n",
              "       [0]])"
            ]
          },
          "metadata": {
            "tags": []
          },
          "execution_count": 30
        }
      ]
    },
    {
      "cell_type": "code",
      "metadata": {
        "id": "RVjJPYiS9yMZ"
      },
      "source": [
        "split_test_size = 0.20"
      ],
      "execution_count": null,
      "outputs": []
    },
    {
      "cell_type": "code",
      "metadata": {
        "id": "tQ3HMfuCw3ga"
      },
      "source": [
        "from sklearn.model_selection import train_test_split"
      ],
      "execution_count": null,
      "outputs": []
    },
    {
      "cell_type": "code",
      "metadata": {
        "id": "6BGCwuENtxeB"
      },
      "source": [
        "X_treino, X_teste, Y_treino, Y_teste = train_test_split(X, y, test_size = split_test_size, random_state = 42)"
      ],
      "execution_count": null,
      "outputs": []
    },
    {
      "cell_type": "code",
      "metadata": {
        "id": "9y926VJ6t47e",
        "colab": {
          "base_uri": "https://localhost:8080/"
        },
        "outputId": "c262aba5-ab45-40a0-adfd-5ffe1fa11489"
      },
      "source": [
        "print(\"{0:0.2f}% nos dados de treino\".format((len(X_treino)/len(df.index)) * 100))\n",
        "print(\"{0:0.2f}% nos dados de teste\".format((len(X_teste)/len(df.index)) * 100))"
      ],
      "execution_count": null,
      "outputs": [
        {
          "output_type": "stream",
          "text": [
            "80.00% nos dados de treino\n",
            "20.00% nos dados de teste\n"
          ],
          "name": "stdout"
        }
      ]
    },
    {
      "cell_type": "code",
      "metadata": {
        "id": "dwE5S6wbt-KI",
        "colab": {
          "base_uri": "https://localhost:8080/"
        },
        "outputId": "94e9d1cc-f8a6-4494-b5df-56986dd18a6d"
      },
      "source": [
        "X_treino"
      ],
      "execution_count": null,
      "outputs": [
        {
          "output_type": "execute_result",
          "data": {
            "text/plain": [
              "array([[1.32849153e+12, 5.68761000e+06, 2.50000000e+01, ...,\n",
              "        0.00000000e+00, 0.00000000e+00, 0.00000000e+00],\n",
              "       [3.88186930e+14, 5.69448400e+06, 6.20000000e+01, ...,\n",
              "        0.00000000e+00, 0.00000000e+00, 0.00000000e+00],\n",
              "       [9.11899152e+12, 5.50093900e+06, 6.50000000e+01, ...,\n",
              "        0.00000000e+00, 0.00000000e+00, 0.00000000e+00],\n",
              "       ...,\n",
              "       [4.97344272e+11, 5.76286400e+06, 3.80000000e+01, ...,\n",
              "        0.00000000e+00, 0.00000000e+00, 0.00000000e+00],\n",
              "       [2.62349349e+14, 5.63995100e+06, 1.80000000e+01, ...,\n",
              "        0.00000000e+00, 0.00000000e+00, 0.00000000e+00],\n",
              "       [1.82113116e+14, 5.63759300e+06, 9.00000000e+00, ...,\n",
              "        0.00000000e+00, 0.00000000e+00, 1.00000000e+00]])"
            ]
          },
          "metadata": {
            "tags": []
          },
          "execution_count": 35
        }
      ]
    },
    {
      "cell_type": "markdown",
      "metadata": {
        "id": "jS5QUIAjuQwJ"
      },
      "source": [
        "### **Verificar o split dos dados**"
      ]
    },
    {
      "cell_type": "code",
      "metadata": {
        "id": "DKbSlGaVuP_m",
        "colab": {
          "base_uri": "https://localhost:8080/"
        },
        "outputId": "0861813b-eab1-4442-8224-24cd628c1912"
      },
      "source": [
        "print(\"Original True : {0} ({1:0.2f}%)\".format(len(df.loc[df['Hipertensao'] == 1]), \n",
        "                                               (len(df.loc[df['Hipertensao'] ==1])/len(df.index) * 100)))\n",
        "\n",
        "print(\"Original False : {0} ({1:0.2f}%)\".format(len(df.loc[df['Hipertensao'] == 0]), \n",
        "                                               (len(df.loc[df['Hipertensao'] == 0])/len(df.index) * 100)))\n",
        "print(\"\")\n",
        "print(\"Training True : {0} ({1:0.2f}%)\".format(len(Y_treino[Y_treino[:] == 1]), \n",
        "                                               (len(Y_treino[Y_treino[:] == 1])/len(Y_treino) * 100)))\n",
        "\n",
        "print(\"Training False : {0} ({1:0.2f}%)\".format(len(Y_treino[Y_treino[:] == 0]), \n",
        "                                               (len(Y_treino[Y_treino[:] == 0])/len(Y_treino) * 100)))\n",
        "print(\"\")\n",
        "print(\"Test True : {0} ({1:0.2f}%)\".format(len(Y_teste[Y_teste[:] == 1]), \n",
        "                                               (len(Y_teste[Y_teste[:] == 1])/len(Y_teste) * 100)))\n",
        "\n",
        "print(\"Test False : {0} ({1:0.2f}%)\".format(len(Y_teste[Y_teste[:] == 0]), \n",
        "                                               (len(Y_teste[Y_teste[:] == 0])/len(Y_teste) * 100)))"
      ],
      "execution_count": null,
      "outputs": [
        {
          "output_type": "stream",
          "text": [
            "Original True : 21801 (19.72%)\n",
            "Original False : 88726 (80.28%)\n",
            "\n",
            "Training True : 17513 (19.81%)\n",
            "Training False : 70908 (80.19%)\n",
            "\n",
            "Test True : 4288 (19.40%)\n",
            "Test False : 17818 (80.60%)\n"
          ],
          "name": "stdout"
        }
      ]
    },
    {
      "cell_type": "markdown",
      "metadata": {
        "id": "734FH9UCuzXo"
      },
      "source": [
        "### **Valores Missing Ocultos**"
      ]
    },
    {
      "cell_type": "code",
      "metadata": {
        "id": "O01ajwZOuAbR",
        "colab": {
          "base_uri": "https://localhost:8080/"
        },
        "outputId": "478e4501-7c5d-48ae-e0a6-735c8727dafb"
      },
      "source": [
        "df.isnull().values.any()"
      ],
      "execution_count": null,
      "outputs": [
        {
          "output_type": "execute_result",
          "data": {
            "text/plain": [
              "False"
            ]
          },
          "metadata": {
            "tags": []
          },
          "execution_count": 37
        }
      ]
    },
    {
      "cell_type": "code",
      "metadata": {
        "id": "dSR6CRxhvJe8",
        "colab": {
          "base_uri": "https://localhost:8080/"
        },
        "outputId": "9dd23772-660c-4975-c990-213bf2b92edf"
      },
      "source": [
        "print(\"# Linhas no dataframe {0}\".format(len(df)))\n",
        "print(\"# Linhas missing Idade: {0}\".format(len(df.loc[df['Idade'] == 0])))\n",
        "print(\"# Linhas missing Diabetes: {0}\".format(len(df.loc[df['Diabetes'] == 0])))\n",
        "print(\"# Linhas missing Alcolismo: {0}\".format(len(df.loc[df['Alcolismo'] == 0])))\n",
        "print(\"# Linhas missing Deficiencia: {0}\".format(len(df.loc[df['Deficiencia'] == 0])))\n",
        "print(\"# Linhas missing SMS: {0}\".format(len(df.loc[df['SMS_recebido'] == 0])))"
      ],
      "execution_count": null,
      "outputs": [
        {
          "output_type": "stream",
          "text": [
            "# Linhas no dataframe 110527\n",
            "# Linhas missing Idade: 3539\n",
            "# Linhas missing Diabetes: 102584\n",
            "# Linhas missing Alcolismo: 107167\n",
            "# Linhas missing Deficiencia: 108286\n",
            "# Linhas missing SMS: 75045\n"
          ],
          "name": "stdout"
        }
      ]
    },
    {
      "cell_type": "markdown",
      "metadata": {
        "id": "6r2oDGIfveU2"
      },
      "source": [
        "### **Tratando dados missing**"
      ]
    },
    {
      "cell_type": "markdown",
      "metadata": {
        "id": "jgAqu8SMzAla"
      },
      "source": [
        "Imputação de dados: substituindo os valores zerados pela média dos dados."
      ]
    },
    {
      "cell_type": "code",
      "metadata": {
        "id": "5OrLr3EJ3MT_"
      },
      "source": [
        "from sklearn.impute import SimpleImputer"
      ],
      "execution_count": null,
      "outputs": []
    },
    {
      "cell_type": "code",
      "metadata": {
        "id": "yitwEzzg3Mzg"
      },
      "source": [
        "preenche_0 = SimpleImputer(missing_values = 0, strategy = \"mean\")\n",
        "X_treino = preenche_0.fit_transform(X_treino)\n",
        "X_teste = preenche_0.fit_transform(X_teste)"
      ],
      "execution_count": null,
      "outputs": []
    },
    {
      "cell_type": "code",
      "metadata": {
        "id": "uboCjV1p3NNS",
        "colab": {
          "base_uri": "https://localhost:8080/"
        },
        "outputId": "f0a00023-acdb-4617-b8b4-9dee50a337c2"
      },
      "source": [
        "X_treino"
      ],
      "execution_count": null,
      "outputs": [
        {
          "output_type": "execute_result",
          "data": {
            "text/plain": [
              "array([[1.32849153e+12, 5.68761000e+06, 2.50000000e+01, ...,\n",
              "        1.00000000e+00, 1.10000000e+00, 1.00000000e+00],\n",
              "       [3.88186930e+14, 5.69448400e+06, 6.20000000e+01, ...,\n",
              "        1.00000000e+00, 1.10000000e+00, 1.00000000e+00],\n",
              "       [9.11899152e+12, 5.50093900e+06, 6.50000000e+01, ...,\n",
              "        1.00000000e+00, 1.10000000e+00, 1.00000000e+00],\n",
              "       ...,\n",
              "       [4.97344272e+11, 5.76286400e+06, 3.80000000e+01, ...,\n",
              "        1.00000000e+00, 1.10000000e+00, 1.00000000e+00],\n",
              "       [2.62349349e+14, 5.63995100e+06, 1.80000000e+01, ...,\n",
              "        1.00000000e+00, 1.10000000e+00, 1.00000000e+00],\n",
              "       [1.82113116e+14, 5.63759300e+06, 9.00000000e+00, ...,\n",
              "        1.00000000e+00, 1.10000000e+00, 1.00000000e+00]])"
            ]
          },
          "metadata": {
            "tags": []
          },
          "execution_count": 41
        }
      ]
    },
    {
      "cell_type": "markdown",
      "metadata": {
        "id": "JNFsmZbJmqdx"
      },
      "source": [
        "# **Resultados**"
      ]
    },
    {
      "cell_type": "markdown",
      "metadata": {
        "id": "JIh9oKOv5DE9"
      },
      "source": [
        "### **Modelo de Regressão Logística**"
      ]
    },
    {
      "cell_type": "code",
      "metadata": {
        "id": "FfcpPdK45KRi"
      },
      "source": [
        "# implementar o modelo\n",
        "modelo_lr = LogisticRegression(C = 0.7, random_state = 42, max_iter = 1000)\n",
        "modelo_lr.fit(X_treino, Y_treino.ravel())\n",
        "y_forecast_lr = modelo_lr.predict(X_teste)"
      ],
      "execution_count": null,
      "outputs": []
    },
    {
      "cell_type": "code",
      "metadata": {
        "id": "32Hdnlrb5OY1",
        "colab": {
          "base_uri": "https://localhost:8080/"
        },
        "outputId": "010b364d-0d96-4252-bac7-2c50dd3dbb29"
      },
      "source": [
        "print(f'Acurácia do Modelo de Regressão Logística: {accuracy_score(Y_teste, y_forecast_lr)*100}')\n",
        "print()\n",
        "print(\"Classification Report\")\n",
        "print(metrics.classification_report(Y_teste, y_forecast_lr, labels = [1, 0]))"
      ],
      "execution_count": null,
      "outputs": [
        {
          "output_type": "stream",
          "text": [
            "Acurácia do Modelo de Regressão Logística: 80.60255134352664\n",
            "\n",
            "Classification Report\n",
            "              precision    recall  f1-score   support\n",
            "\n",
            "           1       0.00      0.00      0.00      4288\n",
            "           0       0.81      1.00      0.89     17818\n",
            "\n",
            "    accuracy                           0.81     22106\n",
            "   macro avg       0.40      0.50      0.45     22106\n",
            "weighted avg       0.65      0.81      0.72     22106\n",
            "\n"
          ],
          "name": "stdout"
        },
        {
          "output_type": "stream",
          "text": [
            "/usr/local/lib/python3.7/dist-packages/sklearn/metrics/_classification.py:1272: UndefinedMetricWarning: Precision and F-score are ill-defined and being set to 0.0 in labels with no predicted samples. Use `zero_division` parameter to control this behavior.\n",
            "  _warn_prf(average, modifier, msg_start, len(result))\n"
          ],
          "name": "stderr"
        }
      ]
    },
    {
      "cell_type": "markdown",
      "metadata": {
        "id": "mGi8d9QWwrdo"
      },
      "source": [
        "### **Multilayer Perceptron (MLP)**"
      ]
    },
    {
      "cell_type": "code",
      "metadata": {
        "id": "EoX2n2ck4x0d",
        "colab": {
          "base_uri": "https://localhost:8080/"
        },
        "outputId": "cd335732-16dd-466d-8fa3-b679eb36437b"
      },
      "source": [
        "# Building MLP model\n",
        "modelo_mlp = MLPClassifier(solver='lbfgs', alpha=1e-5, hidden_layer_sizes=(5, 10), random_state=1)\n",
        "\n",
        "# Training MLP model\n",
        "modelo_mlp.fit(X_treino, Y_treino)\n",
        "\n",
        "# Testing MLP model\n",
        "y_forecast_mlp = modelo_mlp.predict(X_teste)"
      ],
      "execution_count": null,
      "outputs": [
        {
          "output_type": "stream",
          "text": [
            "/usr/local/lib/python3.7/dist-packages/sklearn/neural_network/_multilayer_perceptron.py:934: DataConversionWarning: A column-vector y was passed when a 1d array was expected. Please change the shape of y to (n_samples, ), for example using ravel().\n",
            "  y = column_or_1d(y, warn=True)\n"
          ],
          "name": "stderr"
        }
      ]
    },
    {
      "cell_type": "code",
      "metadata": {
        "id": "I-e_oy9KlLT8",
        "colab": {
          "base_uri": "https://localhost:8080/"
        },
        "outputId": "6878845e-cd77-43a3-9c81-2c7475ee3ef2"
      },
      "source": [
        "print(f'Acurácia do Modelo de Regressão Logística: {accuracy_score(Y_teste, y_forecast_mlp)*100}')\n",
        "print()\n",
        "print(\"Classification Report\")\n",
        "print(metrics.classification_report(Y_teste, y_forecast_mlp, labels = [1, 0]))"
      ],
      "execution_count": null,
      "outputs": [
        {
          "output_type": "stream",
          "text": [
            "/usr/local/lib/python3.7/dist-packages/sklearn/metrics/_classification.py:1272: UndefinedMetricWarning: Precision and F-score are ill-defined and being set to 0.0 in labels with no predicted samples. Use `zero_division` parameter to control this behavior.\n",
            "  _warn_prf(average, modifier, msg_start, len(result))\n"
          ],
          "name": "stderr"
        },
        {
          "output_type": "stream",
          "text": [
            "Acurácia do Modelo de Regressão Logística: 80.60255134352664\n",
            "\n",
            "Classification Report\n",
            "              precision    recall  f1-score   support\n",
            "\n",
            "           1       0.00      0.00      0.00      4288\n",
            "           0       0.81      1.00      0.89     17818\n",
            "\n",
            "    accuracy                           0.81     22106\n",
            "   macro avg       0.40      0.50      0.45     22106\n",
            "weighted avg       0.65      0.81      0.72     22106\n",
            "\n"
          ],
          "name": "stdout"
        }
      ]
    },
    {
      "cell_type": "markdown",
      "metadata": {
        "id": "QttookRcw0xi"
      },
      "source": [
        "### **KNN (K nearest neighbor)**"
      ]
    },
    {
      "cell_type": "code",
      "metadata": {
        "id": "dlliY9Yf3vHF",
        "colab": {
          "base_uri": "https://localhost:8080/"
        },
        "outputId": "06926560-1ecc-48c9-a6ee-3a7fd1de0919"
      },
      "source": [
        "# Building KNN model with 5 neighbors (K=5)\n",
        "modelo_KNN = KNeighborsClassifier(n_neighbors=5)\n",
        "\n",
        "# Training the KNN model\n",
        "modelo_KNN.fit(X_treino, Y_treino)\n",
        "\n",
        "# Testing the KNN model\n",
        "y_forecast_KNN = modelo_KNN.predict(X_teste)"
      ],
      "execution_count": null,
      "outputs": [
        {
          "output_type": "stream",
          "text": [
            "/usr/local/lib/python3.7/dist-packages/ipykernel_launcher.py:5: DataConversionWarning: A column-vector y was passed when a 1d array was expected. Please change the shape of y to (n_samples, ), for example using ravel().\n",
            "  \"\"\"\n"
          ],
          "name": "stderr"
        }
      ]
    },
    {
      "cell_type": "code",
      "metadata": {
        "id": "a7Q_qhS7lpag",
        "colab": {
          "base_uri": "https://localhost:8080/"
        },
        "outputId": "f566c55b-3eb7-4cdb-ae89-e1a4e0418f47"
      },
      "source": [
        "print(\"Exatidão (Accuracy): {0:.4f}\".format(metrics.accuracy_score(Y_teste, y_forecast_KNN)))\n",
        "print()\n",
        "print(\"Classification Report\")\n",
        "print(metrics.classification_report(Y_teste, y_forecast_KNN, labels = [1, 0]))"
      ],
      "execution_count": null,
      "outputs": [
        {
          "output_type": "stream",
          "text": [
            "Exatidão (Accuracy): 0.8144\n",
            "\n",
            "Classification Report\n",
            "              precision    recall  f1-score   support\n",
            "\n",
            "           1       0.53      0.37      0.44      4288\n",
            "           0       0.86      0.92      0.89     17818\n",
            "\n",
            "    accuracy                           0.81     22106\n",
            "   macro avg       0.70      0.65      0.66     22106\n",
            "weighted avg       0.80      0.81      0.80     22106\n",
            "\n"
          ],
          "name": "stdout"
        }
      ]
    },
    {
      "cell_type": "markdown",
      "metadata": {
        "id": "5RoLSHj0xPsK"
      },
      "source": [
        "### **Decision Tree**"
      ]
    },
    {
      "cell_type": "code",
      "metadata": {
        "id": "UJW0UgXY4bNS"
      },
      "source": [
        "# Building Tree model \n",
        "modelo_tree = DecisionTreeClassifier(random_state=1)\n",
        "\n",
        "# Training the Tree model\n",
        "modelo_tree.fit(X_treino, Y_treino)\n",
        "\n",
        "# Testing the Tree model\n",
        "y_forecast_tree = modelo_tree.predict(X_teste)"
      ],
      "execution_count": null,
      "outputs": []
    },
    {
      "cell_type": "code",
      "metadata": {
        "id": "e3f6ZSmJly1X",
        "colab": {
          "base_uri": "https://localhost:8080/"
        },
        "outputId": "ee04d471-c584-40de-910f-5917f95f6f0f"
      },
      "source": [
        "print(\"Exatidão (Accuracy): {0:.4f}\".format(metrics.accuracy_score(Y_teste, y_forecast_tree)))\n",
        "print()\n",
        "print(\"Classification Report\")\n",
        "print(metrics.classification_report(Y_teste, y_forecast_tree, labels = [1, 0]))"
      ],
      "execution_count": null,
      "outputs": [
        {
          "output_type": "stream",
          "text": [
            "Exatidão (Accuracy): 0.8405\n",
            "\n",
            "Classification Report\n",
            "              precision    recall  f1-score   support\n",
            "\n",
            "           1       0.59      0.60      0.59      4288\n",
            "           0       0.90      0.90      0.90     17818\n",
            "\n",
            "    accuracy                           0.84     22106\n",
            "   macro avg       0.75      0.75      0.75     22106\n",
            "weighted avg       0.84      0.84      0.84     22106\n",
            "\n"
          ],
          "name": "stdout"
        }
      ]
    },
    {
      "cell_type": "markdown",
      "metadata": {
        "id": "4u5pI0sDW_T_"
      },
      "source": [
        "### **Classificador Naive Bayes**"
      ]
    },
    {
      "cell_type": "code",
      "metadata": {
        "id": "G6tAAXmdxcgf",
        "colab": {
          "base_uri": "https://localhost:8080/"
        },
        "outputId": "2ab8af20-4405-4671-d823-82d00cdde8ee"
      },
      "source": [
        "# Utilizando um classificador Naive Bayes\n",
        "from sklearn.naive_bayes import GaussianNB\n",
        "\n",
        "# Criando o modelo preditivo\n",
        "modelo_NB = GaussianNB()\n",
        "\n",
        "# Treinando o modelo\n",
        "modelo_NB.fit(X_treino, Y_treino.ravel())\n"
      ],
      "execution_count": null,
      "outputs": [
        {
          "output_type": "execute_result",
          "data": {
            "text/plain": [
              "GaussianNB(priors=None, var_smoothing=1e-09)"
            ]
          },
          "metadata": {
            "tags": []
          },
          "execution_count": 50
        }
      ]
    },
    {
      "cell_type": "code",
      "metadata": {
        "id": "wO6Q9IjvsmWs",
        "colab": {
          "base_uri": "https://localhost:8080/"
        },
        "outputId": "7fa66b59-5395-4e34-a62a-b5ee44eb7941"
      },
      "source": [
        "from sklearn import metrics\n",
        "y_forecast_NB = modelo_NB.predict(X_teste)\n",
        "print(\"Exatidão (Accuracy): {0:.4f}\".format(metrics.accuracy_score(Y_teste, y_forecast_NB)))\n",
        "print()\n",
        "print(\"Classification Report\")\n",
        "print(metrics.classification_report(Y_teste, y_forecast_NB, labels = [1, 0]))"
      ],
      "execution_count": null,
      "outputs": [
        {
          "output_type": "stream",
          "text": [
            "Exatidão (Accuracy): 0.8060\n",
            "\n",
            "Classification Report\n",
            "              precision    recall  f1-score   support\n",
            "\n",
            "           1       0.00      0.00      0.00      4288\n",
            "           0       0.81      1.00      0.89     17818\n",
            "\n",
            "    accuracy                           0.81     22106\n",
            "   macro avg       0.40      0.50      0.45     22106\n",
            "weighted avg       0.65      0.81      0.72     22106\n",
            "\n"
          ],
          "name": "stdout"
        },
        {
          "output_type": "stream",
          "text": [
            "/usr/local/lib/python3.7/dist-packages/sklearn/metrics/_classification.py:1272: UndefinedMetricWarning: Precision and F-score are ill-defined and being set to 0.0 in labels with no predicted samples. Use `zero_division` parameter to control this behavior.\n",
            "  _warn_prf(average, modifier, msg_start, len(result))\n"
          ],
          "name": "stderr"
        }
      ]
    },
    {
      "cell_type": "markdown",
      "metadata": {
        "id": "eO1zus1bxUR3"
      },
      "source": [
        "### **Comparando a acurácia (exatidão) dos modelos**"
      ]
    },
    {
      "cell_type": "code",
      "metadata": {
        "id": "rQ7hsW_k7dus",
        "colab": {
          "base_uri": "https://localhost:8080/"
        },
        "outputId": "9aa25d47-deb3-4aac-f718-f2d4fa5441cf"
      },
      "source": [
        "# Comparing models accuracy\n",
        "print(f'Acurácia do Modelo MLP: {accuracy_score(Y_teste, y_forecast_mlp)*100}')\n",
        "print(f'Acurácia do Modelo KNN: {accuracy_score(Y_teste, y_forecast_KNN)*100}')\n",
        "print(f'Acurácia do Modelo Decision Tree: {accuracy_score(Y_teste, y_forecast_tree)*100}')\n",
        "print(f'Acurácia do Modelo NB: {accuracy_score(Y_teste, y_forecast_NB)*100}')\n",
        "print(f'Acurácia do Modelo de Regressão Logística: {accuracy_score(Y_teste, y_forecast_lr)*100}')\n"
      ],
      "execution_count": null,
      "outputs": [
        {
          "output_type": "stream",
          "text": [
            "Acurácia do Modelo MLP: 80.60255134352664\n",
            "Acurácia do Modelo KNN: 81.44395186827106\n",
            "Acurácia do Modelo Decision Tree: 84.05410295847281\n",
            "Acurácia do Modelo NB: 80.60255134352664\n",
            "Acurácia do Modelo de Regressão Logística: 80.60255134352664\n"
          ],
          "name": "stdout"
        }
      ]
    },
    {
      "cell_type": "markdown",
      "metadata": {
        "id": "nrJEz2175Wlf"
      },
      "source": [
        "### **Previsões com o modelo treinado!**"
      ]
    },
    {
      "cell_type": "code",
      "metadata": {
        "id": "EaWUR2oW5afe"
      },
      "source": [
        "import pickle"
      ],
      "execution_count": null,
      "outputs": []
    },
    {
      "cell_type": "code",
      "metadata": {
        "id": "hPx1qXrp5dMQ"
      },
      "source": [
        "filename = 'modelo_lr_treinado.sav'\n",
        "pickle.dump(y_forecast_lr, open(filename, 'wb'))"
      ],
      "execution_count": null,
      "outputs": []
    },
    {
      "cell_type": "code",
      "metadata": {
        "id": "iQQS4uch5geg",
        "colab": {
          "base_uri": "https://localhost:8080/"
        },
        "outputId": "b0bb4dcc-b638-44f6-c6ba-1acce9f387c3"
      },
      "source": [
        "X_teste"
      ],
      "execution_count": null,
      "outputs": [
        {
          "output_type": "execute_result",
          "data": {
            "text/plain": [
              "array([[2.75957453e+13, 5.75641700e+06, 2.00000000e+01, ...,\n",
              "        1.00000000e+00, 1.08616780e+00, 1.00000000e+00],\n",
              "       [9.67319364e+14, 5.52315900e+06, 3.70000000e+01, ...,\n",
              "        1.00000000e+00, 1.08616780e+00, 1.00000000e+00],\n",
              "       [3.95164144e+12, 5.69308000e+06, 3.80000000e+01, ...,\n",
              "        1.00000000e+00, 1.08616780e+00, 1.00000000e+00],\n",
              "       ...,\n",
              "       [8.51726432e+11, 5.56802600e+06, 2.20000000e+01, ...,\n",
              "        1.00000000e+00, 1.08616780e+00, 1.00000000e+00],\n",
              "       [6.33883673e+14, 5.63794500e+06, 3.90000000e+01, ...,\n",
              "        1.00000000e+00, 1.08616780e+00, 1.00000000e+00],\n",
              "       [7.93951990e+12, 5.71501700e+06, 3.00000000e+00, ...,\n",
              "        1.00000000e+00, 1.08616780e+00, 1.00000000e+00]])"
            ]
          },
          "metadata": {
            "tags": []
          },
          "execution_count": 55
        }
      ]
    }
  ]
}